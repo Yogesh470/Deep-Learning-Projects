{
  "nbformat": 4,
  "nbformat_minor": 0,
  "metadata": {
    "colab": {
      "name": "CaseStudy.ipynb",
      "provenance": []
    },
    "kernelspec": {
      "name": "python3",
      "display_name": "Python 3"
    }
  },
  "cells": [
    {
      "cell_type": "code",
      "metadata": {
        "id": "UMR4Ky9LnoJe"
      },
      "source": [
        "import zipfile\r\n",
        "local_zip='/content/NSE-Tata-Global-Beverages-Limited.zip'\r\n",
        "zip_ref=zipfile.ZipFile(local_zip,'r')\r\n",
        "zip_ref.extractall()\r\n",
        "zip_ref.close()\r\n"
      ],
      "execution_count": 1,
      "outputs": []
    },
    {
      "cell_type": "code",
      "metadata": {
        "id": "-_ASbuJep1pI"
      },
      "source": [
        "import pandas as pd\r\n",
        "import numpy as np\r\n",
        "import matplotlib.pyplot as plt\r\n",
        "%matplotlib inline\r\n",
        "\r\n",
        "#setting figure size\r\n",
        "from matplotlib.pylab import rcParams\r\n",
        "rcParams['figure.figsize'] = 20,10\r\n",
        "\r\n",
        "#for normalizing data\r\n",
        "from sklearn.preprocessing import MinMaxScaler\r\n",
        "from keras.models import Sequential\r\n",
        "from keras.layers import Dense, Dropout, LSTM\r\n"
      ],
      "execution_count": 2,
      "outputs": []
    },
    {
      "cell_type": "code",
      "metadata": {
        "colab": {
          "base_uri": "https://localhost:8080/",
          "height": 206
        },
        "id": "4GA_dn9oqiow",
        "outputId": "57c43155-112c-401a-983e-9580c37ccde8"
      },
      "source": [
        "df = pd.read_csv('/content/NSE-Tata-Global-Beverages-Limited.csv')\r\n",
        "\r\n",
        "#print the head\r\n",
        "df.head()"
      ],
      "execution_count": 40,
      "outputs": [
        {
          "output_type": "execute_result",
          "data": {
            "text/html": [
              "<div>\n",
              "<style scoped>\n",
              "    .dataframe tbody tr th:only-of-type {\n",
              "        vertical-align: middle;\n",
              "    }\n",
              "\n",
              "    .dataframe tbody tr th {\n",
              "        vertical-align: top;\n",
              "    }\n",
              "\n",
              "    .dataframe thead th {\n",
              "        text-align: right;\n",
              "    }\n",
              "</style>\n",
              "<table border=\"1\" class=\"dataframe\">\n",
              "  <thead>\n",
              "    <tr style=\"text-align: right;\">\n",
              "      <th></th>\n",
              "      <th>Date</th>\n",
              "      <th>Open</th>\n",
              "      <th>High</th>\n",
              "      <th>Low</th>\n",
              "      <th>Last</th>\n",
              "      <th>Close</th>\n",
              "      <th>Total Trade Quantity</th>\n",
              "      <th>Turnover (Lacs)</th>\n",
              "    </tr>\n",
              "  </thead>\n",
              "  <tbody>\n",
              "    <tr>\n",
              "      <th>0</th>\n",
              "      <td>2018-10-08</td>\n",
              "      <td>208.00</td>\n",
              "      <td>222.25</td>\n",
              "      <td>206.85</td>\n",
              "      <td>216.00</td>\n",
              "      <td>215.15</td>\n",
              "      <td>4642146.0</td>\n",
              "      <td>10062.83</td>\n",
              "    </tr>\n",
              "    <tr>\n",
              "      <th>1</th>\n",
              "      <td>2018-10-05</td>\n",
              "      <td>217.00</td>\n",
              "      <td>218.60</td>\n",
              "      <td>205.90</td>\n",
              "      <td>210.25</td>\n",
              "      <td>209.20</td>\n",
              "      <td>3519515.0</td>\n",
              "      <td>7407.06</td>\n",
              "    </tr>\n",
              "    <tr>\n",
              "      <th>2</th>\n",
              "      <td>2018-10-04</td>\n",
              "      <td>223.50</td>\n",
              "      <td>227.80</td>\n",
              "      <td>216.15</td>\n",
              "      <td>217.25</td>\n",
              "      <td>218.20</td>\n",
              "      <td>1728786.0</td>\n",
              "      <td>3815.79</td>\n",
              "    </tr>\n",
              "    <tr>\n",
              "      <th>3</th>\n",
              "      <td>2018-10-03</td>\n",
              "      <td>230.00</td>\n",
              "      <td>237.50</td>\n",
              "      <td>225.75</td>\n",
              "      <td>226.45</td>\n",
              "      <td>227.60</td>\n",
              "      <td>1708590.0</td>\n",
              "      <td>3960.27</td>\n",
              "    </tr>\n",
              "    <tr>\n",
              "      <th>4</th>\n",
              "      <td>2018-10-01</td>\n",
              "      <td>234.55</td>\n",
              "      <td>234.60</td>\n",
              "      <td>221.05</td>\n",
              "      <td>230.30</td>\n",
              "      <td>230.90</td>\n",
              "      <td>1534749.0</td>\n",
              "      <td>3486.05</td>\n",
              "    </tr>\n",
              "  </tbody>\n",
              "</table>\n",
              "</div>"
            ],
            "text/plain": [
              "         Date    Open    High  ...   Close  Total Trade Quantity  Turnover (Lacs)\n",
              "0  2018-10-08  208.00  222.25  ...  215.15             4642146.0         10062.83\n",
              "1  2018-10-05  217.00  218.60  ...  209.20             3519515.0          7407.06\n",
              "2  2018-10-04  223.50  227.80  ...  218.20             1728786.0          3815.79\n",
              "3  2018-10-03  230.00  237.50  ...  227.60             1708590.0          3960.27\n",
              "4  2018-10-01  234.55  234.60  ...  230.90             1534749.0          3486.05\n",
              "\n",
              "[5 rows x 8 columns]"
            ]
          },
          "metadata": {
            "tags": []
          },
          "execution_count": 40
        }
      ]
    },
    {
      "cell_type": "code",
      "metadata": {
        "colab": {
          "base_uri": "https://localhost:8080/",
          "height": 479
        },
        "id": "W39BtkXQrgd8",
        "outputId": "81123fe2-a314-4e56-c9c5-c0f70d11b8fb"
      },
      "source": [
        "#setting index as date\r\n",
        "df['Date'] = pd.to_datetime(df.Date,format='%Y-%m-%d')\r\n",
        "df.index = df['Date']\r\n",
        "\r\n",
        "#plot\r\n",
        "plt.figure(figsize=(16,8))\r\n",
        "plt.plot(df['Close'], label='Close Price history')"
      ],
      "execution_count": 41,
      "outputs": [
        {
          "output_type": "execute_result",
          "data": {
            "text/plain": [
              "[<matplotlib.lines.Line2D at 0x7f74cae58650>]"
            ]
          },
          "metadata": {
            "tags": []
          },
          "execution_count": 41
        },
        {
          "output_type": "display_data",
          "data": {
            "image/png": "[encoded data removed]",
            "text/plain": [
              "<Figure size 1152x576 with 1 Axes>"
            ]
          },
          "metadata": {
            "tags": [],
            "needs_background": "light"
          }
        }
      ]
    },
    {
      "cell_type": "code",
      "metadata": {
        "id": "IWyysau2rkqQ"
      },
      "source": [
        "data = df.sort_index(ascending=True, axis=0)\r\n",
        "new_data = pd.DataFrame(index=range(0,len(df)),columns=['Date', 'Close'])\r\n",
        "for i in range(0,len(data)):\r\n",
        "    new_data['Date'][i] = data['Date'][i]\r\n",
        "    new_data['Close'][i] = data['Close'][i]"
      ],
      "execution_count": 42,
      "outputs": []
    },
    {
      "cell_type": "code",
      "metadata": {
        "id": "-BipY0w81L09"
      },
      "source": [
        "new_data.index = new_data.Date\r\n",
        "new_data.drop('Date', axis=1, inplace=True)\r\n",
        "\r\n",
        "#creating train and test sets\r\n",
        "dataset = new_data.values\r\n"
      ],
      "execution_count": 43,
      "outputs": []
    },
    {
      "cell_type": "code",
      "metadata": {
        "id": "W5-1pH-21RN1"
      },
      "source": [
        "train = dataset[0:987,:] # four year data\r\n",
        "valid = dataset[987:,:]  # we take one year data for testing\r\n"
      ],
      "execution_count": 44,
      "outputs": []
    },
    {
      "cell_type": "code",
      "metadata": {
        "id": "BOLu8ZDc1Y6J"
      },
      "source": [
        "#converting dataset into x_train and y_train\r\n",
        "scaler = MinMaxScaler(feature_range=(0, 1))\r\n",
        "scaled_data = scaler.fit_transform(dataset)\r\n",
        "\r\n"
      ],
      "execution_count": 45,
      "outputs": []
    },
    {
      "cell_type": "markdown",
      "metadata": {
        "id": "2ce4e1z13Xgp"
      },
      "source": [
        "Multi-Step LSTM Models\r\n",
        "\r\n",
        "A time series forecasting problem that requires a prediction of multiple time steps into the future can be referred to as multi-step time series forecasting.\r\n",
        "\r\n",
        "There are two main types of LSTM models that can be used for multi-step forecasting; they are:\r\n",
        "\r\n",
        "   1 Vector Output Model\r\n",
        "\r\n",
        "   2 Encoder-Decoder Model\r\n",
        "   \r\n",
        " We use first model \r\n"
      ]
    },
    {
      "cell_type": "code",
      "metadata": {
        "id": "lxPdrrwp1adp"
      },
      "source": [
        "x_train, y_train = [], []\r\n",
        "for i in range(60,len(train)):\r\n",
        "    x_train.append(scaled_data[i-60:i,0]) # Here we take 60 days data to predict next 5 days \r\n",
        "    y_train.append(scaled_data[i:i+5,0])   # 5 days to predict\r\n",
        "x_train, y_train = np.array(x_train), np.array(y_train)\r\n",
        "\r\n",
        "x_train = np.reshape(x_train, (x_train.shape[0],x_train.shape[1],1)) # (3 dim data)\r\n"
      ],
      "execution_count": 46,
      "outputs": []
    },
    {
      "cell_type": "code",
      "metadata": {
        "id": "BdP0DL8B1jhi"
      },
      "source": [
        "model = Sequential()\r\n",
        "model.add(LSTM(50,return_sequences=True, input_shape=(x_train.shape[1],1)))\r\n",
        "model.add(LSTM(50))\r\n",
        "model.add(Dense(5))# we have to predict next 5 days \r\n",
        "\r\n"
      ],
      "execution_count": 47,
      "outputs": []
    },
    {
      "cell_type": "code",
      "metadata": {
        "colab": {
          "base_uri": "https://localhost:8080/"
        },
        "id": "YypqPg6u1n6D",
        "outputId": "bb7beb86-a81c-4f32-9177-acc744bce8dc"
      },
      "source": [
        "model.compile(loss='mse', optimizer='adam')\r\n",
        "model.fit(x_train, y_train, epochs=1, batch_size=1, verbose=2)\r\n"
      ],
      "execution_count": 48,
      "outputs": [
        {
          "output_type": "stream",
          "text": [
            "927/927 - 22s - loss: 0.0019\n"
          ],
          "name": "stdout"
        },
        {
          "output_type": "execute_result",
          "data": {
            "text/plain": [
              "<tensorflow.python.keras.callbacks.History at 0x7f74ca4f3dd0>"
            ]
          },
          "metadata": {
            "tags": []
          },
          "execution_count": 48
        }
      ]
    },
    {
      "cell_type": "code",
      "metadata": {
        "id": "mFWEuzXWtzv_"
      },
      "source": [
        "model.save(\"saved_model.h5\") # save the model"
      ],
      "execution_count": 55,
      "outputs": []
    },
    {
      "cell_type": "code",
      "metadata": {
        "id": "CkR5Bku01sWX"
      },
      "source": [
        "inputs = new_data[len(new_data) - len(valid) - 60:].values # test data 308 samples\r\n",
        "inputs = inputs.reshape(-1,1)\r\n",
        "inputs  = scaler.transform(inputs)\r\n"
      ],
      "execution_count": 49,
      "outputs": []
    },
    {
      "cell_type": "code",
      "metadata": {
        "id": "C2nwIOsS1wO2"
      },
      "source": [
        "X_test =[]\r\n",
        "for i in range(60,inputs.shape[0]):\r\n",
        "    X_test.append(inputs[i-60:i,0]) # same as for test data #60 days\r\n",
        "X_test = np.array(X_test)\r\n",
        "\r\n",
        "X_test = np.reshape(X_test, (X_test.shape[0],X_test.shape[1],1))\r\n",
        "closing_price = model.predict(X_test)\r\n",
        "closing_price = scaler.inverse_transform(closing_price)\r\n",
        "\r\n"
      ],
      "execution_count": 50,
      "outputs": []
    },
    {
      "cell_type": "code",
      "metadata": {
        "colab": {
          "base_uri": "https://localhost:8080/"
        },
        "id": "2WLayaTO12nU",
        "outputId": "a79ea7aa-0902-4410-c670-de2b460bff8a"
      },
      "source": [
        "rms=np.sqrt(np.mean(np.power((valid-closing_price[0:248,0]),2)))\r\n",
        "rms"
      ],
      "execution_count": 51,
      "outputs": [
        {
          "output_type": "execute_result",
          "data": {
            "text/plain": [
              "38.433386764564126"
            ]
          },
          "metadata": {
            "tags": []
          },
          "execution_count": 51
        }
      ]
    },
    {
      "cell_type": "code",
      "metadata": {
        "colab": {
          "base_uri": "https://localhost:8080/",
          "height": 608
        },
        "id": "KXMWzWuh1753",
        "outputId": "9bb148cd-b130-41fa-bf90-edea48faad38"
      },
      "source": [
        "#for plotting\r\n",
        "train = new_data[:987]\r\n",
        "valid = new_data[987:]\r\n",
        "valid['Predictions'] = closing_price[0:248,0]\r\n",
        "plt.plot(train['Close'])\r\n",
        "plt.plot(valid[['Close','Predictions']])\r\n",
        "plt.legend(['Train', 'Val', 'Predictions'], loc='lower right')\r\n"
      ],
      "execution_count": 52,
      "outputs": [
        {
          "output_type": "stream",
          "text": [
            "/usr/local/lib/python3.7/dist-packages/ipykernel_launcher.py:4: SettingWithCopyWarning: \n",
            "A value is trying to be set on a copy of a slice from a DataFrame.\n",
            "Try using .loc[row_indexer,col_indexer] = value instead\n",
            "\n",
            "See the caveats in the documentation: https://pandas.pydata.org/pandas-docs/stable/user_guide/indexing.html#returning-a-view-versus-a-copy\n",
            "  after removing the cwd from sys.path.\n"
          ],
          "name": "stderr"
        },
        {
          "output_type": "execute_result",
          "data": {
            "text/plain": [
              "<matplotlib.legend.Legend at 0x7f74c9591ed0>"
            ]
          },
          "metadata": {
            "tags": []
          },
          "execution_count": 52
        },
        {
          "output_type": "display_data",
          "data": {
            "image/png": "[encoded data removed]",
            "text/plain": [
              "<Figure size 1440x720 with 1 Axes>"
            ]
          },
          "metadata": {
            "tags": [],
            "needs_background": "light"
          }
        }
      ]
    },
    {
      "cell_type": "code",
      "metadata": {
        "colab": {
          "base_uri": "https://localhost:8080/"
        },
        "id": "7X5GJLKi8G3n",
        "outputId": "d9d7bf1e-2713-4d2e-8e23-b1350858dde3"
      },
      "source": [
        "#we get next 5 days predictions using 60 days data\r\n",
        "closing_price"
      ],
      "execution_count": 37,
      "outputs": [
        {
          "output_type": "execute_result",
          "data": {
            "text/plain": [
              "array([[198.29602, 202.20767, 204.40036, 204.50351, 203.21106],\n",
              "       [199.04514, 202.93918, 205.25153, 205.21358, 203.81378],\n",
              "       [199.74417, 203.62712, 206.02727, 205.91725, 204.43779],\n",
              "       ...,\n",
              "       [226.39081, 231.9307 , 236.1129 , 235.32233, 234.99684],\n",
              "       [224.42061, 230.0274 , 233.89745, 233.47166, 233.44162],\n",
              "       [221.09947, 226.76953, 230.17503, 230.25613, 230.61975]],\n",
              "      dtype=float32)"
            ]
          },
          "metadata": {
            "tags": []
          },
          "execution_count": 37
        }
      ]
    },
    {
      "cell_type": "code",
      "metadata": {
        "colab": {
          "base_uri": "https://localhost:8080/",
          "height": 455
        },
        "id": "hGCyPqaeo7E6",
        "outputId": "fb2611ec-db48-47ba-d511-9c2e72117941"
      },
      "source": [
        "valid"
      ],
      "execution_count": 53,
      "outputs": [
        {
          "output_type": "execute_result",
          "data": {
            "text/html": [
              "<div>\n",
              "<style scoped>\n",
              "    .dataframe tbody tr th:only-of-type {\n",
              "        vertical-align: middle;\n",
              "    }\n",
              "\n",
              "    .dataframe tbody tr th {\n",
              "        vertical-align: top;\n",
              "    }\n",
              "\n",
              "    .dataframe thead th {\n",
              "        text-align: right;\n",
              "    }\n",
              "</style>\n",
              "<table border=\"1\" class=\"dataframe\">\n",
              "  <thead>\n",
              "    <tr style=\"text-align: right;\">\n",
              "      <th></th>\n",
              "      <th>Close</th>\n",
              "      <th>Predictions</th>\n",
              "    </tr>\n",
              "    <tr>\n",
              "      <th>Date</th>\n",
              "      <th></th>\n",
              "      <th></th>\n",
              "    </tr>\n",
              "  </thead>\n",
              "  <tbody>\n",
              "    <tr>\n",
              "      <th>2017-10-09</th>\n",
              "      <td>208.3</td>\n",
              "      <td>204.181168</td>\n",
              "    </tr>\n",
              "    <tr>\n",
              "      <th>2017-10-10</th>\n",
              "      <td>208.45</td>\n",
              "      <td>204.740952</td>\n",
              "    </tr>\n",
              "    <tr>\n",
              "      <th>2017-10-11</th>\n",
              "      <td>209.4</td>\n",
              "      <td>205.312927</td>\n",
              "    </tr>\n",
              "    <tr>\n",
              "      <th>2017-10-12</th>\n",
              "      <td>212</td>\n",
              "      <td>205.921738</td>\n",
              "    </tr>\n",
              "    <tr>\n",
              "      <th>2017-10-13</th>\n",
              "      <td>210.25</td>\n",
              "      <td>206.707977</td>\n",
              "    </tr>\n",
              "    <tr>\n",
              "      <th>...</th>\n",
              "      <td>...</td>\n",
              "      <td>...</td>\n",
              "    </tr>\n",
              "    <tr>\n",
              "      <th>2018-10-01</th>\n",
              "      <td>230.9</td>\n",
              "      <td>232.164490</td>\n",
              "    </tr>\n",
              "    <tr>\n",
              "      <th>2018-10-03</th>\n",
              "      <td>227.6</td>\n",
              "      <td>232.193695</td>\n",
              "    </tr>\n",
              "    <tr>\n",
              "      <th>2018-10-04</th>\n",
              "      <td>218.2</td>\n",
              "      <td>231.728241</td>\n",
              "    </tr>\n",
              "    <tr>\n",
              "      <th>2018-10-05</th>\n",
              "      <td>209.2</td>\n",
              "      <td>230.244934</td>\n",
              "    </tr>\n",
              "    <tr>\n",
              "      <th>2018-10-08</th>\n",
              "      <td>215.15</td>\n",
              "      <td>227.592453</td>\n",
              "    </tr>\n",
              "  </tbody>\n",
              "</table>\n",
              "<p>248 rows × 2 columns</p>\n",
              "</div>"
            ],
            "text/plain": [
              "             Close  Predictions\n",
              "Date                           \n",
              "2017-10-09   208.3   204.181168\n",
              "2017-10-10  208.45   204.740952\n",
              "2017-10-11   209.4   205.312927\n",
              "2017-10-12     212   205.921738\n",
              "2017-10-13  210.25   206.707977\n",
              "...            ...          ...\n",
              "2018-10-01   230.9   232.164490\n",
              "2018-10-03   227.6   232.193695\n",
              "2018-10-04   218.2   231.728241\n",
              "2018-10-05   209.2   230.244934\n",
              "2018-10-08  215.15   227.592453\n",
              "\n",
              "[248 rows x 2 columns]"
            ]
          },
          "metadata": {
            "tags": []
          },
          "execution_count": 53
        }
      ]
    },
    {
      "cell_type": "code",
      "metadata": {
        "colab": {
          "base_uri": "https://localhost:8080/"
        },
        "id": "BA7-8em8tSTS",
        "outputId": "d1faaf31-0b5c-423c-d71e-091a959e9146"
      },
      "source": [
        "!pip install dash\r\n",
        "!pip install dash-html-components\r\n",
        "!pip install dash-core-components\r\n"
      ],
      "execution_count": 54,
      "outputs": [
        {
          "output_type": "stream",
          "text": [
            "Collecting dash\n",
            "\u001b[?25l  Downloading https://files.pythonhosted.org/packages/bc/b4/0bd5c94fdcb0eccb93c3c8068fe10f5607e542337d0b8f6e2d88078316a9/dash-1.19.0.tar.gz (75kB)\n",
            "\r\u001b[K     |████▍                           | 10kB 10.9MB/s eta 0:00:01\r\u001b[K     |████████▊                       | 20kB 12.6MB/s eta 0:00:01\r\u001b[K     |█████████████                   | 30kB 8.1MB/s eta 0:00:01\r\u001b[K     |█████████████████▍              | 40kB 7.5MB/s eta 0:00:01\r\u001b[K     |█████████████████████▊          | 51kB 4.7MB/s eta 0:00:01\r\u001b[K     |██████████████████████████▏     | 61kB 5.0MB/s eta 0:00:01\r\u001b[K     |██████████████████████████████▌ | 71kB 5.3MB/s eta 0:00:01\r\u001b[K     |████████████████████████████████| 81kB 3.6MB/s \n",
            "\u001b[?25hRequirement already satisfied: Flask>=1.0.4 in /usr/local/lib/python3.7/dist-packages (from dash) (1.1.2)\n",
            "Collecting flask-compress\n",
            "  Downloading https://files.pythonhosted.org/packages/da/4d/20eccc60b10f8765f15f42db35e1a0d010bc9a7562760410f7d9cef87d77/Flask-Compress-1.9.0.tar.gz\n",
            "Requirement already satisfied: plotly in /usr/local/lib/python3.7/dist-packages (from dash) (4.4.1)\n",
            "Collecting dash_renderer==1.9.0\n",
            "\u001b[?25l  Downloading https://files.pythonhosted.org/packages/be/a6/dd1edfe7b1102274e93991736c35b2a5e1a63b524c8d9f41bbb30f17340b/dash_renderer-1.9.0.tar.gz (1.0MB)\n",
            "\u001b[K     |████████████████████████████████| 1.0MB 7.9MB/s \n",
            "\u001b[?25hCollecting dash-core-components==1.15.0\n",
            "\u001b[?25l  Downloading https://files.pythonhosted.org/packages/22/78/ae0829e673f3df77403bcdb35073b1ed2f156080f5bcac6f21c1047d73fe/dash_core_components-1.15.0.tar.gz (3.5MB)\n",
            "\u001b[K     |████████████████████████████████| 3.5MB 14.4MB/s \n",
            "\u001b[?25hCollecting dash-html-components==1.1.2\n",
            "\u001b[?25l  Downloading https://files.pythonhosted.org/packages/3f/25/56de2708128fe375eecc2e18e0ccdc3a853494966e36334ec8a30be99b94/dash_html_components-1.1.2.tar.gz (188kB)\n",
            "\u001b[K     |████████████████████████████████| 194kB 34.7MB/s \n",
            "\u001b[?25hCollecting dash-table==4.11.2\n",
            "\u001b[?25l  Downloading https://files.pythonhosted.org/packages/3d/ae/96cb64b58d76391604b57f8c747f9a19ab2122e7ba214e2e0cf35484962b/dash_table-4.11.2.tar.gz (1.8MB)\n",
            "\u001b[K     |████████████████████████████████| 1.8MB 38.6MB/s \n",
            "\u001b[?25hRequirement already satisfied: future in /usr/local/lib/python3.7/dist-packages (from dash) (0.16.0)\n",
            "Requirement already satisfied: click>=5.1 in /usr/local/lib/python3.7/dist-packages (from Flask>=1.0.4->dash) (7.1.2)\n",
            "Requirement already satisfied: Jinja2>=2.10.1 in /usr/local/lib/python3.7/dist-packages (from Flask>=1.0.4->dash) (2.11.3)\n",
            "Requirement already satisfied: itsdangerous>=0.24 in /usr/local/lib/python3.7/dist-packages (from Flask>=1.0.4->dash) (1.1.0)\n",
            "Requirement already satisfied: Werkzeug>=0.15 in /usr/local/lib/python3.7/dist-packages (from Flask>=1.0.4->dash) (1.0.1)\n",
            "Collecting brotli\n",
            "\u001b[?25l  Downloading https://files.pythonhosted.org/packages/15/ea/5bd575511b37bbd1c794606a0a621e6feff8e96b7dd007a86a5d218b2d94/Brotli-1.0.9-cp37-cp37m-manylinux1_x86_64.whl (357kB)\n",
            "\u001b[K     |████████████████████████████████| 358kB 39.0MB/s \n",
            "\u001b[?25hRequirement already satisfied: six in /usr/local/lib/python3.7/dist-packages (from plotly->dash) (1.15.0)\n",
            "Requirement already satisfied: retrying>=1.3.3 in /usr/local/lib/python3.7/dist-packages (from plotly->dash) (1.3.3)\n",
            "Requirement already satisfied: MarkupSafe>=0.23 in /usr/local/lib/python3.7/dist-packages (from Jinja2>=2.10.1->Flask>=1.0.4->dash) (1.1.1)\n",
            "Building wheels for collected packages: dash, flask-compress, dash-renderer, dash-core-components, dash-html-components, dash-table\n",
            "  Building wheel for dash (setup.py) ... \u001b[?25l\u001b[?25hdone\n",
            "  Created wheel for dash: filename=dash-1.19.0-cp37-none-any.whl size=84011 sha256=209c8c4da4cf39a7faf86484bda8a95aedc35739f29ba7078c6457d1e32492a7\n",
            "  Stored in directory: /root/.cache/pip/wheels/f7/50/a7/a230ff7f503b10120bff18c2524a375bb85a61ce6b519c8a77\n",
            "  Building wheel for flask-compress (setup.py) ... \u001b[?25l\u001b[?25hdone\n",
            "  Created wheel for flask-compress: filename=Flask_Compress-1.9.0-cp37-none-any.whl size=7259 sha256=763524c0f136024db21a87e63006af8e040192a8a01c681c832ff3cd1060bdf5\n",
            "  Stored in directory: /root/.cache/pip/wheels/0d/56/7d/e0c50541e5421b8291d958afb098c23818989e29d91a1edac5\n",
            "  Building wheel for dash-renderer (setup.py) ... \u001b[?25l\u001b[?25hdone\n",
            "  Created wheel for dash-renderer: filename=dash_renderer-1.9.0-cp37-none-any.whl size=1014870 sha256=60c7074ed82a7ffc2a26e61fa09a9693f7d5f82a37cadbddeb53df77d8685276\n",
            "  Stored in directory: /root/.cache/pip/wheels/46/a0/ec/2be2e8fc750e623d76f9690c397cc5ab28b33d0a16a49e10c5\n",
            "  Building wheel for dash-core-components (setup.py) ... \u001b[?25l\u001b[?25hdone\n",
            "  Created wheel for dash-core-components: filename=dash_core_components-1.15.0-cp37-none-any.whl size=3527014 sha256=4f6772d6a0c1c2a8d26fc646ac48f3b08cd1438f08d98879407c889859877107\n",
            "  Stored in directory: /root/.cache/pip/wheels/53/3d/be/d628d6f66eedf9597f0c89c8ff43a5020ad1c25152c77d8e9f\n",
            "  Building wheel for dash-html-components (setup.py) ... \u001b[?25l\u001b[?25hdone\n",
            "  Created wheel for dash-html-components: filename=dash_html_components-1.1.2-cp37-none-any.whl size=427830 sha256=c000d733a73c2d91df1bc8365401e7698cb970db89b53d47d054a31d71ca811f\n",
            "  Stored in directory: /root/.cache/pip/wheels/44/95/70/0dc41f9b4e31b8a7ea22193aad5647b2c85cfab37bf13c0242\n",
            "  Building wheel for dash-table (setup.py) ... \u001b[?25l\u001b[?25hdone\n",
            "  Created wheel for dash-table: filename=dash_table-4.11.2-cp37-none-any.whl size=1839869 sha256=7f851219888d2986c16adc7117d1d232c4366a1405466eb0f2d457a80491d236\n",
            "  Stored in directory: /root/.cache/pip/wheels/72/d9/f6/2ad62ac0037f1f0c0d3d10948a596b594a069057df0656ac3f\n",
            "Successfully built dash flask-compress dash-renderer dash-core-components dash-html-components dash-table\n",
            "Installing collected packages: brotli, flask-compress, dash-renderer, dash-core-components, dash-html-components, dash-table, dash\n",
            "Successfully installed brotli-1.0.9 dash-1.19.0 dash-core-components-1.15.0 dash-html-components-1.1.2 dash-renderer-1.9.0 dash-table-4.11.2 flask-compress-1.9.0\n",
            "Requirement already satisfied: dash-html-components in /usr/local/lib/python3.7/dist-packages (1.1.2)\n",
            "Requirement already satisfied: dash-core-components in /usr/local/lib/python3.7/dist-packages (1.15.0)\n"
          ],
          "name": "stdout"
        }
      ]
    },
    {
      "cell_type": "code",
      "metadata": {
        "id": "z5u3KjB5tikP"
      },
      "source": [
        "import dash\r\n",
        "import dash_core_components as dcc\r\n",
        "import dash_html_components as html\r\n",
        "import plotly.graph_objs as go\r\n",
        "from dash.dependencies import Input, Output\r\n",
        "from keras.models import load_model\r\n",
        "app = dash.Dash()\r\n",
        "server = app.server\r\n"
      ],
      "execution_count": 56,
      "outputs": []
    },
    {
      "cell_type": "code",
      "metadata": {
        "id": "3rdh4h0DutLq"
      },
      "source": [
        "import zipfile\r\n",
        "local_zip='/content/stock_data.zip'\r\n",
        "zip_ref1=zipfile.ZipFile(local_zip,'r')\r\n",
        "zip_ref1.extractall()\r\n",
        "zip_ref1.close()\r\n"
      ],
      "execution_count": 57,
      "outputs": []
    },
    {
      "cell_type": "code",
      "metadata": {
        "id": "umCF6ZLZvHZj"
      },
      "source": [
        "df=pd.read_csv('/content/stock_data.csv')"
      ],
      "execution_count": 58,
      "outputs": []
    },
    {
      "cell_type": "code",
      "metadata": {
        "id": "ZkmOoadUuL9d"
      },
      "source": [
        "app.layout = html.Div([\r\n",
        "   \r\n",
        "    html.H1(\"Stock Price Analysis Dashboard\", style={\"textAlign\": \"center\"}),\r\n",
        "   \r\n",
        "    dcc.Tabs(id=\"tabs\", children=[\r\n",
        "       \r\n",
        "        dcc.Tab(label='NSE-TATAGLOBAL Stock Data',children=[\r\n",
        "            html.Div([\r\n",
        "                html.H2(\"Actual closing price\",style={\"textAlign\": \"center\"}),\r\n",
        "                dcc.Graph(\r\n",
        "                    id=\"Actual Data\",\r\n",
        "                    figure={\r\n",
        "                        \"data\":[\r\n",
        "                            go.Scatter(\r\n",
        "                                x=train.index,\r\n",
        "                                y=valid[\"Close\"],\r\n",
        "                                mode='markers'\r\n",
        "                            )\r\n",
        "                        ],\r\n",
        "                        \"layout\":go.Layout(\r\n",
        "                            title='scatter plot',\r\n",
        "                            xaxis={'title':'Date'},\r\n",
        "                            yaxis={'title':'Closing Rate'}\r\n",
        "                        )\r\n",
        "                    }\r\n",
        "                ),\r\n",
        "                html.H2(\"LSTM Predicted closing price\",style={\"textAlign\": \"center\"}),\r\n",
        "                dcc.Graph(\r\n",
        "                    id=\"Predicted Data\",\r\n",
        "                    figure={\r\n",
        "                        \"data\":[\r\n",
        "                            go.Scatter(\r\n",
        "                                x=valid.index,\r\n",
        "                                y=valid[\"Predictions\"],\r\n",
        "                                mode='markers'\r\n",
        "                            )\r\n",
        "                        ],\r\n",
        "                        \"layout\":go.Layout(\r\n",
        "                            title='scatter plot',\r\n",
        "                            xaxis={'title':'Date'},\r\n",
        "                            yaxis={'title':'Closing Rate'}\r\n",
        "                        )\r\n",
        "                    }\r\n",
        "                )                \r\n",
        "            ])                \r\n",
        "        ]),\r\n",
        "        dcc.Tab(label='Facebook Stock Data', children=[\r\n",
        "            html.Div([\r\n",
        "                html.H1(\"Facebook Stocks High vs Lows\", \r\n",
        "                        style={'textAlign': 'center'}),\r\n",
        "              \r\n",
        "                dcc.Dropdown(id='my-dropdown',\r\n",
        "                             options=[{'label': 'Tesla', 'value': 'TSLA'},\r\n",
        "                                      {'label': 'Apple','value': 'AAPL'}, \r\n",
        "                                      {'label': 'Facebook', 'value': 'FB'}, \r\n",
        "                                      {'label': 'Microsoft','value': 'MSFT'}], \r\n",
        "                             multi=True,value=['FB'],\r\n",
        "                             style={\"display\": \"block\", \"margin-left\": \"auto\", \r\n",
        "                                    \"margin-right\": \"auto\", \"width\": \"60%\"}),\r\n",
        "                dcc.Graph(id='highlow'),\r\n",
        "                html.H1(\"Facebook Market Volume\", style={'textAlign': 'center'}),\r\n",
        "         \r\n",
        "                dcc.Dropdown(id='my-dropdown2',\r\n",
        "                             options=[{'label': 'Tesla', 'value': 'TSLA'},\r\n",
        "                                      {'label': 'Apple','value': 'AAPL'}, \r\n",
        "                                      {'label': 'Facebook', 'value': 'FB'},\r\n",
        "                                      {'label': 'Microsoft','value': 'MSFT'}], \r\n",
        "                             multi=True,value=['FB'],\r\n",
        "                             style={\"display\": \"block\", \"margin-left\": \"auto\", \r\n",
        "                                    \"margin-right\": \"auto\", \"width\": \"60%\"}),\r\n",
        "                dcc.Graph(id='volume')\r\n",
        "            ], className=\"container\"),\r\n",
        "        ])\r\n",
        "    ])\r\n",
        "])\r\n",
        "@app.callback(Output('highlow', 'figure'),\r\n",
        "              [Input('my-dropdown', 'value')])\r\n",
        "def update_graph(selected_dropdown):\r\n",
        "    dropdown = {\"TSLA\": \"Tesla\",\"AAPL\": \"Apple\",\"FB\": \"Facebook\",\"MSFT\": \"Microsoft\",}\r\n",
        "    trace1 = []\r\n",
        "    trace2 = []\r\n",
        "    for stock in selected_dropdown:\r\n",
        "        trace1.append(\r\n",
        "          go.Scatter(x=df[df[\"Stock\"] == stock][\"Date\"],\r\n",
        "                     y=df[df[\"Stock\"] == stock][\"High\"],\r\n",
        "                     mode='lines', opacity=0.7, \r\n",
        "                     name=f'High {dropdown[stock]}',textposition='bottom center'))\r\n",
        "        trace2.append(\r\n",
        "          go.Scatter(x=df[df[\"Stock\"] == stock][\"Date\"],\r\n",
        "                     y=df[df[\"Stock\"] == stock][\"Low\"],\r\n",
        "                     mode='lines', opacity=0.6,\r\n",
        "                     name=f'Low {dropdown[stock]}',textposition='bottom center'))\r\n",
        "    traces = [trace1, trace2]\r\n",
        "    data = [val for sublist in traces for val in sublist]\r\n",
        "    figure = {'data': data,\r\n",
        "              'layout': go.Layout(colorway=[\"#5E0DAC\", '#FF4F00', '#375CB1', \r\n",
        "                                            '#FF7400', '#FFF400', '#FF0056'],\r\n",
        "            height=600,\r\n",
        "            title=f\"High and Low Prices for {', '.join(str(dropdown[i]) for i in selected_dropdown)} Over Time\",\r\n",
        "            xaxis={\"title\":\"Date\",\r\n",
        "                   'rangeselector': {'buttons': list([{'count': 1, 'label': '1M', \r\n",
        "                                                       'step': 'month', \r\n",
        "                                                       'stepmode': 'backward'},\r\n",
        "                                                      {'count': 6, 'label': '6M', \r\n",
        "                                                       'step': 'month', \r\n",
        "                                                       'stepmode': 'backward'},\r\n",
        "                                                      {'step': 'all'}])},\r\n",
        "                   'rangeslider': {'visible': True}, 'type': 'date'},\r\n",
        "             yaxis={\"title\":\"Price (USD)\"})}\r\n",
        "    return figure\r\n",
        "@app.callback(Output('volume', 'figure'),\r\n",
        "              [Input('my-dropdown2', 'value')])\r\n",
        "def update_graph(selected_dropdown_value):\r\n",
        "    dropdown = {\"TSLA\": \"Tesla\",\"AAPL\": \"Apple\",\"FB\": \"Facebook\",\"MSFT\": \"Microsoft\",}\r\n",
        "    trace1 = []\r\n",
        "    for stock in selected_dropdown_value:\r\n",
        "        trace1.append(\r\n",
        "          go.Scatter(x=df[df[\"Stock\"] == stock][\"Date\"],\r\n",
        "                     y=df[df[\"Stock\"] == stock][\"Volume\"],\r\n",
        "                     mode='lines', opacity=0.7,\r\n",
        "                     name=f'Volume {dropdown[stock]}', textposition='bottom center'))\r\n",
        "    traces = [trace1]\r\n",
        "    data = [val for sublist in traces for val in sublist]\r\n",
        "    figure = {'data': data, \r\n",
        "              'layout': go.Layout(colorway=[\"#5E0DAC\", '#FF4F00', '#375CB1', \r\n",
        "                                            '#FF7400', '#FFF400', '#FF0056'],\r\n",
        "            height=600,\r\n",
        "            title=f\"Market Volume for {', '.join(str(dropdown[i]) for i in selected_dropdown_value)} Over Time\",\r\n",
        "            xaxis={\"title\":\"Date\",\r\n",
        "                   'rangeselector': {'buttons': list([{'count': 1, 'label': '1M', \r\n",
        "                                                       'step': 'month', \r\n",
        "                                                       'stepmode': 'backward'},\r\n",
        "                                                      {'count': 6, 'label': '6M',\r\n",
        "                                                       'step': 'month', \r\n",
        "                                                       'stepmode': 'backward'},\r\n",
        "                                                      {'step': 'all'}])},\r\n",
        "                   'rangeslider': {'visible': True}, 'type': 'date'},\r\n",
        "             yaxis={\"title\":\"Transactions Volume\"})}\r\n",
        "    return figure\r\n",
        "if __name__=='__main__':\r\n",
        "    app.run_server(debug=True)  "
      ],
      "execution_count": null,
      "outputs": []
    },
    {
      "cell_type": "code",
      "metadata": {
        "id": "mhgNwDI-7DbG"
      },
      "source": [
        "from keras.layers import RepeatVector\r\n",
        "from keras.layers import TimeDistributed\r\n"
      ],
      "execution_count": 70,
      "outputs": []
    },
    {
      "cell_type": "code",
      "metadata": {
        "id": "5MjSC4lC7hpf"
      },
      "source": [
        "y_train = np.reshape(y_train, (y_train.shape[0],y_train.shape[1],1)) # (3 dim data)"
      ],
      "execution_count": 71,
      "outputs": []
    },
    {
      "cell_type": "markdown",
      "metadata": {
        "id": "0Kr44snd9Qoi"
      },
      "source": [
        "Encoder-Decoder Model\r\n",
        "\r\n",
        "A model specifically developed for forecasting variable length output sequences is called the Encoder-Decoder LSTM.\r\n",
        "\r\n",
        "The model was designed for prediction problems where there are both input and output sequences, so-called sequence-to-sequence, or seq2seq problems, such as translating text from one language to another.\r\n",
        "\r\n",
        "This model can be used for multi-step time series forecasting.\r\n",
        "\r\n"
      ]
    },
    {
      "cell_type": "code",
      "metadata": {
        "colab": {
          "base_uri": "https://localhost:8080/"
        },
        "id": "ru3HgJug7FGX",
        "outputId": "910d58ee-e039-4eb4-af85-1890b14acf54"
      },
      "source": [
        "model1 = Sequential()\r\n",
        "model1.add(LSTM(60,input_shape=(x_train.shape[1],1)))\r\n",
        "model1.add(RepeatVector(5))\r\n",
        "model1.add(LSTM(60, return_sequences=True))\r\n",
        "model1.add(TimeDistributed(Dense(1)))\r\n",
        "model1.compile(optimizer='adam', loss='mse')\r\n",
        "# fit model\r\n",
        "\r\n",
        "model1.fit(x_train, y_train, epochs=1, batch_size=1, verbose=2)\r\n",
        "\r\n"
      ],
      "execution_count": 74,
      "outputs": [
        {
          "output_type": "stream",
          "text": [
            "927/927 - 15s - loss: 0.0016\n"
          ],
          "name": "stdout"
        },
        {
          "output_type": "execute_result",
          "data": {
            "text/plain": [
              "<tensorflow.python.keras.callbacks.History at 0x7f74c25b5fd0>"
            ]
          },
          "metadata": {
            "tags": []
          },
          "execution_count": 74
        }
      ]
    },
    {
      "cell_type": "code",
      "metadata": {
        "id": "yqITY1Ay8n0B"
      },
      "source": [
        "closing_price1 = model1.predict(X_test)\r\n",
        "closing_price1 = scaler.inverse_transform(closing_price1[0])\r\n"
      ],
      "execution_count": 82,
      "outputs": []
    },
    {
      "cell_type": "code",
      "metadata": {
        "colab": {
          "base_uri": "https://localhost:8080/"
        },
        "id": "WkHIITdk83Sw",
        "outputId": "690bd18b-7d40-43e8-c885-76505c83ce98"
      },
      "source": [
        "closing_price1"
      ],
      "execution_count": 83,
      "outputs": [
        {
          "output_type": "execute_result",
          "data": {
            "text/plain": [
              "array([[226.97974],\n",
              "       [220.49509],\n",
              "       [222.6258 ],\n",
              "       [222.5351 ],\n",
              "       [223.1453 ]], dtype=float32)"
            ]
          },
          "metadata": {
            "tags": []
          },
          "execution_count": 83
        }
      ]
    }
  ]
}